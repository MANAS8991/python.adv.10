{
 "cells": [
  {
   "cell_type": "markdown",
   "id": "e64549dc",
   "metadata": {},
   "source": [
    "# Q1. What is the difference between __getattr__ and __getattribute__?"
   ]
  },
  {
   "cell_type": "code",
   "execution_count": null,
   "id": "747ba7c0",
   "metadata": {},
   "outputs": [],
   "source": [
    "The __getattr__ and __getattribute__ are both special methods in Python that are used to handle attribute access. However, there are some important differences between them:\n",
    "\n",
    "Invocation:\n",
    "\n",
    "__getattr__: This method is invoked when the requested attribute is not found through normal lookup, i.e., when the attribute is not present in the instance or its class. It is only called as a last resort, after other attribute lookup mechanisms have failed.\n",
    "__getattribute__: This method is invoked for every attribute access, regardless of whether the attribute exists or not. It is called before any other attribute lookup occurs.\n",
    "Error Handling:\n",
    "\n",
    "__getattr__: This method is used for handling attribute access only when the attribute is not found. It allows you to define custom behavior for attribute retrieval.\n",
    "__getattribute__: This method is called for every attribute access, including the ones that do exist. It gives you the opportunity to intercept and modify attribute access or raise exceptions based on certain conditions.\n",
    "Implementation:\n",
    "\n",
    "__getattr__: This method is defined as a fallback for attribute access. It takes the attribute name as an argument and is only called when the attribute is not found.\n",
    "__getattribute__: This method is called for every attribute access, regardless of whether the attribute exists or not. It takes the attribute name as an argument and must return the attribute value or raise an exception. Be cautious when implementing __getattribute__ as it can lead to infinite recursion if not handled carefully.\n",
    "Here's a simple example to illustrate the differences:\n",
    "class Example:\n",
    "    def __getattr__(self, name):\n",
    "        print(f'__getattr__ called for {name}')\n",
    "        return 42\n",
    "    \n",
    "    def __getattribute__(self, name):\n",
    "        print(f'__getattribute__ called for {name}')\n",
    "        return super().__getattribute__(name)\n",
    "\n",
    "obj = Example()\n",
    "print(obj.existing_attr)  # __getattribute__ called for existing_attr\n",
    "print(obj.non_existing_attr)  # __getattribute__ called for non_existing_attr, __getattr__ called for non_existing_attr, 42\n",
    "\n"
   ]
  },
  {
   "cell_type": "markdown",
   "id": "46baffde",
   "metadata": {},
   "source": [
    "# Q2. What is the difference between properties and descriptors?"
   ]
  },
  {
   "cell_type": "markdown",
   "id": "1aa9a835",
   "metadata": {},
   "source": [
    "Properties and descriptors are both mechanisms in Python that provide a way to define and control access to attributes. However, there are some key differences between them:\n",
    "\n",
    "Properties:\n",
    "\n",
    "Bound to a specific attribute: Properties are bound to a specific attribute of a class. They allow you to define methods that are used to get, set, and delete the value of that attribute. Properties provide a way to control attribute access and perform additional actions when accessing or modifying the attribute.\n",
    "Defined at the class level: Properties are defined as class-level attributes using the @property decorator. The decorator allows you to define methods that are accessed like attributes.\n",
    "Automatically invoked: When accessing the property, the corresponding getter method is automatically invoked. When assigning a value to the property, the setter method is called. Deletion of the property triggers the deleter method.\n",
    "Simple syntax: Properties provide a simple and intuitive syntax for attribute access. They allow you to access and modify attributes as if they were regular attributes, while the underlying getter, setter, and deleter methods handle the behavior.\n",
    "Limited control over attribute access: Properties allow control over attribute access on a per-attribute basis, but they do not provide fine-grained control over attribute access across multiple attributes or instances.\n",
    "Descriptors:\n",
    "\n",
    "Bound to multiple attributes: Descriptors are more general-purpose and can be bound to multiple attributes of a class or multiple classes. They allow you to define the behavior of attribute access, modification, and deletion for multiple attributes or classes.\n",
    "Defined as a separate class: Descriptors are defined as a separate class that implements the __get__, __set__, and/or __delete__ methods. These methods are responsible for defining the behavior of attribute access, modification, and deletion.\n",
    "Invoked through descriptor protocol: Descriptors are invoked through the descriptor protocol. When accessing an attribute that has a descriptor, the descriptor's __get__ method is called. Similarly, assignment and deletion are handled by the __set__ and __delete__ methods, respectively.\n",
    "Fine-grained control: Descriptors provide fine-grained control over attribute access and can define custom behavior for attribute access, modification, and deletion across multiple attributes or classes.\n",
    "Greater flexibility: Descriptors offer greater flexibility and can implement complex behaviors such as type checking, value validation, or lazy attribute initialization."
   ]
  },
  {
   "cell_type": "markdown",
   "id": "5bc32ebd",
   "metadata": {},
   "source": [
    "# Q3. What are the key differences in functionality between __getattr__ and __getattribute__, as well as properties and descriptors?"
   ]
  },
  {
   "cell_type": "code",
   "execution_count": null,
   "id": "6f5e62ab",
   "metadata": {},
   "outputs": [],
   "source": [
    "The key differences in functionality between __getattr__, __getattribute__, properties, and descriptors are as follows:\n",
    "\n",
    "Invocation and Error Handling:\n",
    "\n",
    "__getattr__: Called when the attribute is not found via normal attribute lookup. It allows you to define custom behavior for attribute retrieval.\n",
    "__getattribute__: Called for every attribute access, regardless of whether the attribute exists or not. It gives you the opportunity to intercept and modify attribute access or raise exceptions based on certain conditions.\n",
    "Properties: Provide a way to define getter, setter, and deleter methods for a specific attribute. They are invoked automatically when accessing, assigning, or deleting the property.\n",
    "Descriptors: Defined as a separate class with __get__, __set__, and/or __delete__ methods, descriptors provide the behavior of attribute access, modification, and deletion for multiple attributes or classes.\n",
    "Attribute Control:\n",
    "\n",
    "__getattr__: Allows custom handling of attribute retrieval only when the attribute is not found.\n",
    "__getattribute__: Gives fine-grained control over all attribute access, regardless of whether the attribute exists or not.\n",
    "Properties: Provide controlled access to a specific attribute by defining custom getter, setter, and deleter methods.\n",
    "Descriptors: Offer fine-grained control over attribute access, modification, and deletion for multiple attributes or classes.\n",
    "Usage and Implementation:\n",
    "\n",
    "__getattr__: Defined at the object level and called as a last resort when an attribute is not found.\n",
    "__getattribute__: Defined at the object level and called for every attribute access, allowing interception and modification of attribute access.\n",
    "Properties: Defined at the class level using the @property decorator and provide a simple syntax for attribute access.\n",
    "Descriptors: Defined as a separate class and associated with attributes or classes, allowing custom behavior for attribute access, modification, and deletion.\n",
    "Error Handling:\n",
    "\n",
    "__getattr__: Used for handling attribute access only when the attribute is not found.\n",
    "__getattribute__: Called for every attribute access, including the ones that do exist. Allows you to intercept and modify attribute access or raise exceptions based on certain conditions.\n",
    "Properties: Can define custom getter, setter, and deleter methods that handle attribute access and allow you to handle errors or validations.\n",
    "Descriptors: Can implement custom behavior for attribute access, modification, and deletion, including error handling and validations."
   ]
  }
 ],
 "metadata": {
  "kernelspec": {
   "display_name": "Python 3 (ipykernel)",
   "language": "python",
   "name": "python3"
  },
  "language_info": {
   "codemirror_mode": {
    "name": "ipython",
    "version": 3
   },
   "file_extension": ".py",
   "mimetype": "text/x-python",
   "name": "python",
   "nbconvert_exporter": "python",
   "pygments_lexer": "ipython3",
   "version": "3.9.12"
  }
 },
 "nbformat": 4,
 "nbformat_minor": 5
}
